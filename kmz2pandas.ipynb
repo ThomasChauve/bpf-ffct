{
 "cells": [
  {
   "cell_type": "code",
   "execution_count": 5,
   "metadata": {},
   "outputs": [],
   "source": [
    "# -----------------------------------------------\n",
    "#                  LIBRARIES\n",
    "# -----------------------------------------------\n",
    "\n",
    "import geopandas as gpd \n",
    "import fiona \n",
    "import numpy as np\n",
    "import pandas as pd \n",
    "\n",
    "# ------------------------------\n",
    "#       DATA TREATMENT\n",
    "# ------------------------------\n",
    "\n",
    "# IMPORT KML DRIVER\n",
    "\n",
    "gpd.io.file.fiona.drvsupport.supported_drivers['KML'] = 'rw'\n",
    "\n",
    "# READ KML file to a geopandas dataframe \n",
    "\n",
    "geo_df = gpd.read_file('BPF.kml',driver='KMl')\n",
    "\n",
    "# Create Pandas Dataframe from GeoPandas \n",
    "\n",
    "df= pd.DataFrame(geo_df)\n",
    "\n",
    "# Extract latitude and longitude from the KML geometry column\n",
    "df['lat'] = df.geometry.apply(lambda p: p.y)\n",
    "df['lon'] = df.geometry.apply(lambda p: p.x)\n",
    "\n",
    "# You now have a pandas dataframe with a lat and lon column that you can use to plot a mapbox plotly.express map and/or add more data to it. \n",
    "\n",
    "# Made with 🤍 by Jorge Gomes MAR 21 2022"
   ]
  },
  {
   "cell_type": "code",
   "execution_count": null,
   "metadata": {},
   "outputs": [],
   "source": [
    "df"
   ]
  }
 ],
 "metadata": {
  "kernelspec": {
   "display_name": "Python 3",
   "language": "python",
   "name": "python3"
  },
  "language_info": {
   "codemirror_mode": {
    "name": "ipython",
    "version": 3
   },
   "file_extension": ".py",
   "mimetype": "text/x-python",
   "name": "python",
   "nbconvert_exporter": "python",
   "pygments_lexer": "ipython3",
   "version": "3.10.8"
  },
  "orig_nbformat": 4
 },
 "nbformat": 4,
 "nbformat_minor": 2
}
